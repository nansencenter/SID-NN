{
 "cells": [
  {
   "cell_type": "code",
   "execution_count": null,
   "metadata": {},
   "outputs": [],
   "source": [
    "import datetime as dt\n",
    "\n",
    "import numpy as np\n",
    "\n",
    "from cryosat_utils import *\n",
    "%matplotlib inline"
   ]
  },
  {
   "cell_type": "code",
   "execution_count": null,
   "metadata": {},
   "outputs": [],
   "source": [
    "subplot_size=5\n",
    "\n",
    "sit_names = ['cs2', 'cs22', 'inp', 'lor', 'hir']\n",
    "titles = ['CS2_12km', 'CS2_30km', 'CS2SMOS', 'CNN-LR', 'CNN-HR']\n",
    "\n",
    "p_vec = (10,20,30)\n",
    "\n",
    "date_delta0, date_delta1 = -2, 2"
   ]
  },
  {
   "cell_type": "code",
   "execution_count": null,
   "metadata": {},
   "outputs": [],
   "source": [
    "dates = [\n",
    "    dt.datetime(2021,1,3),\n",
    "    dt.datetime(2021,1,6),\n",
    "    dt.datetime(2021,1,9),\n",
    "    dt.datetime(2021,1,12),\n",
    "    dt.datetime(2021,1,15),\n",
    "    dt.datetime(2021,1,18),\n",
    "    dt.datetime(2021,1,21),\n",
    "    dt.datetime(2021,1,24),\n",
    "    dt.datetime(2021,1,27),\n",
    "]\n"
   ]
  },
  {
   "cell_type": "code",
   "execution_count": null,
   "metadata": {
    "scrolled": false
   },
   "outputs": [],
   "source": [
    "ano_dates = []\n",
    "for date0 in dates:\n",
    "    print(date0)\n",
    "    cs2_files, sit_inp_name, sit_lor_name, sit_hir_name = get_filenames(date0, date_delta0, date_delta1)\n",
    "    odf = read_cs2_orbits(cs2_files)\n",
    "    sit_inp, sit_lor, sit_hir = get_sit_2d(sit_inp_name, sit_lor_name, sit_hir_name)\n",
    "    rho_ice_new, rho_snow_new  = fit_snow_ice_rho(odf, sit_inp, plot=False)\n",
    "    odf_masked = get_masked_odf(odf, rho_ice_new, rho_snow_new)\n",
    "    c, r, h = get_smoothed_resampled_orbits(odf_masked, smth_time='12s', resample_time='6s', min_periods=5, t0=None, t1=None)\n",
    "    sit_cs2 = rasterize_cs2(c, r, h, sit_inp, ws=2)\n",
    "\n",
    "    c2, r2, h2 = get_smoothed_resampled_orbits(odf_masked, smth_time='30s', resample_time='6s', min_periods=5, t0=None, t1=None)\n",
    "    sit_cs22 = rasterize_cs2(c2, r2, h2, sit_inp, ws=5)\n",
    "\n",
    "    ano = {}\n",
    "    for arr, name in zip([sit_cs2, sit_cs22, sit_inp, sit_lor, sit_hir], sit_names):\n",
    "        print(name)\n",
    "        ano[name] = compute_anomaly(arr)\n",
    "        \n",
    "    ano_dates.append(ano)        "
   ]
  },
  {
   "cell_type": "code",
   "execution_count": null,
   "metadata": {},
   "outputs": [],
   "source": [
    "ano_all = {}\n",
    "for name in sit_names:\n",
    "    ano_all[name] = []\n",
    "    for ano in ano_dates:\n",
    "        ano_all[name].append(ano[name][1])\n",
    "    ano_all[name] = np.array(ano_all[name])\n"
   ]
  },
  {
   "cell_type": "code",
   "execution_count": null,
   "metadata": {},
   "outputs": [],
   "source": [
    "arrays = [ano_all[name] for name in sit_names]\n",
    "print('Common mask')\n",
    "plot_qq(arrays, titles)\n",
    "print('Individual mask')\n",
    "plot_qq(arrays, titles, common_mask=False)"
   ]
  },
  {
   "cell_type": "code",
   "execution_count": null,
   "metadata": {},
   "outputs": [],
   "source": [
    "def compute_precentiles_3d(arr, p_vec, ws=5, stp=1):\n",
    "    ppp = {}\n",
    "    v = view_as_windows(arr, (arr.shape[0], ws, ws), stp)\n",
    "    for p in p_vec:\n",
    "        print(p)\n",
    "        ppp[p] = np.nanpercentile(v, p, axis=(3,4,5))[0]\n",
    "\n",
    "    return ppp\n",
    "\n",
    "ppp_mean = {}\n",
    "for name in sit_names:\n",
    "    print(name)\n",
    "    ppp_mean[name] = compute_precentiles_3d(ano_all[name], p_vec=(10,20,30), stp=5)"
   ]
  },
  {
   "cell_type": "code",
   "execution_count": null,
   "metadata": {},
   "outputs": [],
   "source": [
    "for p in p_vec:\n",
    "    print(f'Monthly SIT anomaly P{p}')\n",
    "    arrays = [ppp_mean[name][p] for name in sit_names]\n",
    "    plot_maps(arrays, titles, clim=(-0.2, 0), subplot_size=7)"
   ]
  },
  {
   "cell_type": "code",
   "execution_count": null,
   "metadata": {},
   "outputs": [],
   "source": []
  }
 ],
 "metadata": {
  "kernelspec": {
   "display_name": "Python 3",
   "language": "python",
   "name": "python3"
  },
  "language_info": {
   "codemirror_mode": {
    "name": "ipython",
    "version": 3
   },
   "file_extension": ".py",
   "mimetype": "text/x-python",
   "name": "python",
   "nbconvert_exporter": "python",
   "pygments_lexer": "ipython3",
   "version": "3.7.6"
  }
 },
 "nbformat": 4,
 "nbformat_minor": 4
}
