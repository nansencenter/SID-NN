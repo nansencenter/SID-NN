{
 "cells": [
  {
   "cell_type": "code",
   "execution_count": null,
   "metadata": {},
   "outputs": [],
   "source": [
    "import glob\n",
    "\n",
    "import numpy as np\n",
    "import matplotlib.pyplot as plt\n",
    "from scipy.interpolate import interp1d\n",
    "from netCDF4 import Dataset\n",
    "import cartopy\n",
    "import cartopy.crs as ccrs\n",
    "import cartopy.feature as cfeature\n",
    "import pandas as pd\n",
    "dst_crs = ccrs.NorthPolarStereo(central_longitude=-45, true_scale_latitude=70)\n",
    "from pyresample.geometry import AreaDefinition\n",
    "\n",
    "%matplotlib inline"
   ]
  },
  {
   "cell_type": "code",
   "execution_count": null,
   "metadata": {},
   "outputs": [],
   "source": [
    "idir = '/Data/sat/downloads/CS2/SIR_GDR/2021/01'\n",
    "\n",
    "ifiles = sorted(glob.glob(f'{idir}/CS_OFFL_SIR_GDR_2__2021010[1-5]*nc'))\n",
    "print(len(ifiles))\n",
    "\n"
   ]
  },
  {
   "cell_type": "code",
   "execution_count": null,
   "metadata": {},
   "outputs": [],
   "source": [
    "#!ncdump -h /Data/sat/downloads/CS2/SIR_GDR/2021/01/CS_OFFL_SIR_GDR_2__20210101T011921_20210101T025835_D001.nc"
   ]
  },
  {
   "cell_type": "code",
   "execution_count": null,
   "metadata": {},
   "outputs": [],
   "source": [
    "rho_water = 1026\n",
    "rho_snow = 400\n",
    "rho_ice = 917\n",
    "\n",
    "orbits = []\n",
    "min_lat = 70\n",
    "min_sic = 0\n",
    "for ifile in ifiles:\n",
    "    print(ifile)\n",
    "    ds = Dataset(ifile)\n",
    "    freeboard_20_ku = ds['freeboard_20_ku'][:]\n",
    "    lat_poca_20_ku = ds['lat_poca_20_ku'][:]\n",
    "    lon_poca_20_ku = ds['lon_poca_20_ku'][:]\n",
    "\n",
    "    time_20_ku = ds['time_20_ku'][:]\n",
    "    time_cor_01 = ds['time_cor_01'][:]\n",
    "\n",
    "    snow_depth_01 = ds['snow_depth_01'][:]    \n",
    "    f = interp1d(time_cor_01.filled(np.nan), snow_depth_01.filled(np.nan), bounds_error=False)\n",
    "    snow_depth_01 = f(time_20_ku.filled(np.nan))\n",
    "\n",
    "    sea_ice_concentration_01 = ds['sea_ice_concentration_01'][:]\n",
    "    f = interp1d(time_cor_01.filled(np.nan), sea_ice_concentration_01.filled(np.nan), bounds_error=False)\n",
    "    sea_ice_concentration_01 = f(time_20_ku.filled(np.nan))\n",
    "\n",
    "    # filter out sothern pars of orbits\n",
    "    gpi1 = (lat_poca_20_ku > min_lat) * (sea_ice_concentration_01 > min_sic)\n",
    "    # compute thickness\n",
    "    # https://tc.copernicus.org/preprints/tc-2021-127/\n",
    "    sit = (freeboard_20_ku[gpi1] * rho_water + snow_depth_01[gpi1] * rho_snow) / (rho_water - rho_ice)\n",
    "    # compute X, Y coordinates in meters\n",
    "    x, y, _ = dst_crs.transform_points(ccrs.PlateCarree(), lon_poca_20_ku[gpi1], lat_poca_20_ku[gpi1]).T\n",
    "    # filter out errors in lon, lat positions\n",
    "    orbits.append([x, y, sit, sea_ice_concentration_01[gpi1], time_20_ku[gpi1], lon_poca_20_ku[gpi1], lat_poca_20_ku[gpi1]])\n"
   ]
  },
  {
   "cell_type": "code",
   "execution_count": null,
   "metadata": {},
   "outputs": [],
   "source": [
    "plt_stp = 2\n",
    "# get hi-res landmask\n",
    "land_50m = cfeature.NaturalEarthFeature('physical', 'land', '50m',\n",
    "                                        edgecolor='face',\n",
    "                                        facecolor=cfeature.COLORS['land'])\n",
    "plt.figure(figsize=(15,15))\n",
    "ax = plt.axes(projection=dst_crs)\n",
    "ax.add_feature(land_50m, zorder=0, edgecolor='black')\n",
    "\n",
    "for x, y, sit, sic, time, lon, lat in orbits:\n",
    "    gpi = sic > 0\n",
    "    sct = ax.scatter(x[gpi][::plt_stp], y[gpi][::plt_stp], 10, sit[gpi][::plt_stp], cmap='jet', vmin=0, vmax=5)\n",
    "plt.colorbar(sct, ax=ax, shrink=0.5)\n",
    "plt.show()"
   ]
  },
  {
   "cell_type": "code",
   "execution_count": null,
   "metadata": {},
   "outputs": [],
   "source": [
    "sit_all = np.hstack([o[2] for o in orbits])\n",
    "sic_all = np.hstack([o[3] for o in orbits])\n",
    "\n",
    "plt.hist(sit_all, 100, [-3, 10])\n",
    "plt.show()"
   ]
  },
  {
   "cell_type": "code",
   "execution_count": null,
   "metadata": {},
   "outputs": [],
   "source": [
    "gpi = np.isfinite(sic_all*sic_all) * (sit_all > 0)\n",
    "plt.hist2d(sic_all[gpi], sit_all[gpi], 30, [[0, 100], [0, 6]])\n",
    "plt.show()"
   ]
  },
  {
   "cell_type": "code",
   "execution_count": null,
   "metadata": {},
   "outputs": [],
   "source": [
    "o = orbits[0]\n",
    "\n",
    "sit_raw = pd.Series(o[2], index=[pd.Timestamp(\"2020-01-01\") + pd.Timedelta(d, \"sec\") for d in o[4]])\n",
    "print('Original data')\n",
    "sit_raw.plot()\n",
    "plt.show()\n",
    "\n",
    "sat_speed = 6576.1337527911755\n",
    "sat_time_18km = 18000 / sat_speed\n",
    "print(sat_time_18km, sat_speed * 3)\n",
    "print('Spatial average over 3 second')\n",
    "sit_mean_18km = sit_raw.rolling('3 s').mean()\n",
    "sit_mean_18km.plot()\n",
    "plt.show()\n",
    "sit_mean_18km_arr = np.array(sit_mean_18km)"
   ]
  },
  {
   "cell_type": "code",
   "execution_count": null,
   "metadata": {},
   "outputs": [],
   "source": [
    "dst_xmin = -3000000\n",
    "dst_ymin = -3000000\n",
    "dst_xmax = 3000000\n",
    "dst_ymax = 3000000\n",
    "dst_res = 6000\n",
    "dst_width = int((dst_xmax - dst_xmin) / dst_res)\n",
    "dst_height = int((dst_ymax - dst_ymin) / dst_res)\n",
    "dst_extent = [dst_xmin, dst_ymin, dst_xmax, dst_ymax]\n",
    "dst_proj4_string = '+proj=stere +lat_0=90 +lat_ts=70 +lon_0=-45 +x_0=0 +y_0=0 +a=6378273 +rf=298.27940986765 +units=m +no_defs +type=crs'\n",
    "\n",
    "dst_area = AreaDefinition('area_id', 'descr', 'proj_id', dst_proj4_string, dst_width, dst_height, dst_extent)\n",
    "orb_rows, orb_cols = dst_area.get_array_coordinates_from_lonlat(o[5],o[6])\n",
    "orb_rows = orb_rows.filled(np.nan)\n",
    "orb_cols = orb_cols.filled(np.nan)"
   ]
  },
  {
   "cell_type": "code",
   "execution_count": null,
   "metadata": {},
   "outputs": [],
   "source": [
    "slc = slice(3000,4000)\n",
    "plt.figure(figsize=(30, 5))\n",
    "plt.plot(np.floor(orb_rows[slc]), sit_mean_18km_arr[slc], '.-')"
   ]
  },
  {
   "cell_type": "code",
   "execution_count": null,
   "metadata": {},
   "outputs": [],
   "source": [
    "sit_orbits = []\n",
    "col_orbits = []\n",
    "row_orbits = []\n",
    "\n",
    "for o in orbits:\n",
    "    sit_raw = pd.Series(o[2], index=[pd.Timestamp(\"2020-01-01\") + pd.Timedelta(d, \"sec\") for d in o[4]])\n",
    "    sit_mean_18km = sit_raw.rolling('3 s').mean()\n",
    "    sit_mean_18km_arr = np.array(sit_mean_18km)\n",
    "    sit_orbits.append(sit_mean_18km_arr)\n",
    "    orb_cols, orb_rows = dst_area.get_array_coordinates_from_lonlat(o[5],o[6])\n",
    "    col_orbits.append(orb_cols.filled(np.nan))\n",
    "    row_orbits.append(orb_rows.filled(np.nan))\n",
    "sit_orbits, col_orbits, row_orbits = [np.hstack(i) for i in [sit_orbits, col_orbits, row_orbits]]"
   ]
  },
  {
   "cell_type": "code",
   "execution_count": null,
   "metadata": {},
   "outputs": [],
   "source": [
    "sit_2d_p = np.zeros((dst_height, dst_width, 5)) + np.nan\n",
    "sit_2d_cnt = np.zeros((dst_height, dst_width)) + np.nan\n",
    "\n",
    "ws = 25\n",
    "stp = 10\n",
    "for r in range(ws, dst_height - ws, stp):\n",
    "    for c in range(ws, dst_width - ws, stp):\n",
    "        gpi = np.isfinite(sit_orbits) * (row_orbits >= r) * (row_orbits < r+ws)* (col_orbits >= c) * (col_orbits < c+ws)\n",
    "        if gpi[gpi].size > 0:\n",
    "            sit_2d_cnt[r,c] = gpi[gpi].size\n",
    "            for p in range(5):\n",
    "                sit_2d_p[r,c,p] = np.percentile(sit_orbits[gpi], 10*(p+1))\n"
   ]
  },
  {
   "cell_type": "code",
   "execution_count": null,
   "metadata": {},
   "outputs": [],
   "source": [
    "img_extent = [dst_xmin, dst_xmax, dst_ymax, dst_ymin]\n",
    "fig_xlim = [dst_xmin, dst_xmax]\n",
    "fig_ylim = [dst_ymin, dst_ymax]\n",
    "\n",
    "fig, ax = plt.subplots(1,5, figsize=(40,10), subplot_kw=dict(projection=dst_crs))\n",
    "for p in range(5):\n",
    "    img = ax[p].imshow(sit_2d_p[ws::stp, ws::stp,p], interpolation='nearest', clim=[-1, 3], extent=img_extent)\n",
    "    fig.colorbar(img, ax = ax[p], shrink = 0.3)\n",
    "for a in ax:\n",
    "    a.add_feature(cfeature.LAND, zorder=10, edgecolor='black')\n",
    "    a.set_xlim(fig_xlim)\n",
    "    a.set_ylim(fig_ylim)\n",
    "\n",
    "plt.show()"
   ]
  },
  {
   "cell_type": "code",
   "execution_count": null,
   "metadata": {},
   "outputs": [],
   "source": []
  }
 ],
 "metadata": {
  "kernelspec": {
   "display_name": "Python 3",
   "language": "python",
   "name": "python3"
  },
  "language_info": {
   "codemirror_mode": {
    "name": "ipython",
    "version": 3
   },
   "file_extension": ".py",
   "mimetype": "text/x-python",
   "name": "python",
   "nbconvert_exporter": "python",
   "pygments_lexer": "ipython3",
   "version": "3.7.6"
  }
 },
 "nbformat": 4,
 "nbformat_minor": 4
}
