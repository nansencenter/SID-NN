{
 "cells": [
  {
   "cell_type": "markdown",
   "metadata": {},
   "source": [
    "# Test model on test images"
   ]
  },
  {
   "cell_type": "code",
   "execution_count": 1,
   "metadata": {},
   "outputs": [],
   "source": [
    "\n",
    "%load_ext autoreload\n",
    "%autoreload 1\n",
    "\n",
    "%aimport dti_util\n"
   ]
  },
  {
   "cell_type": "code",
   "execution_count": 2,
   "metadata": {},
   "outputs": [],
   "source": [
    "import os\n",
    "import yaml\n",
    "import numpy as np\n",
    "from dti_util import default, stack_training, unstack_training\n",
    "import autokeras as ak #Necessary to import otherwise load_model does not work\n",
    "from tensorflow.keras.models import load_model\n",
    "import matplotlib.pyplot as plt\n",
    "import glob\n",
    "import matplotlib as mpl\n",
    "from tqdm.notebook import tqdm\n"
   ]
  },
  {
   "cell_type": "code",
   "execution_count": 3,
   "metadata": {},
   "outputs": [],
   "source": [
    "# Change default matplotlib\n",
    "mpl.rcParams['savefig.dpi']=150\n",
    "mpl.rcParams['savefig.bbox']='tight'\n",
    "mpl.rcParams['savefig.pad_inches']=0.1\n",
    "mpl.rcParams['axes.labelsize']=mpl.rcParams['axes.titlesize']\n",
    "plt.rcParams['savefig.facecolor']='white'\n"
   ]
  },
  {
   "cell_type": "code",
   "execution_count": 5,
   "metadata": {},
   "outputs": [],
   "source": [
    "# Name of the experiment\n",
    "name = 'exp-sr-sat-sar-smallpatch'\n",
    "\n",
    "# Name of the model\n",
    "model_name = \"long\"\n",
    "\n",
    "# Root of all directories used\n",
    "rootdir = '/mnt/sfe-ns9602k/Julien/data'\n",
    "\n",
    "# save figure\n",
    "savefig = True\n",
    "testdir = 'test'\n",
    "figdir = 'figs'\n"
   ]
  },
  {
   "cell_type": "code",
   "execution_count": 6,
   "metadata": {},
   "outputs": [
    {
     "name": "stdout",
     "output_type": "stream",
     "text": [
      "---- EXPERIMENT SETTING ----\n",
      "smooth_output  :  4\n",
      "strides_test  :  2\n",
      "smooth_drift  :  3\n",
      "smooth_sic  :  6\n",
      "smooth_sit  :  30\n",
      "scale  :  False\n",
      "epsi  :  None\n",
      "targetname  :  h\n",
      "targetfullname  :  SIT\n",
      "colnames  :  ('e2_0', 'c', 'h', 'e1_0')\n",
      "datadir  :  /mnt/sfe-ns9602k/Julien/data/anton/shom5km_defor_4cnn\n",
      "dsize  :  7\n",
      "end_train  :  400\n",
      "itest  :  1\n",
      "name  :  exp-sr-sat-sar-smallpatch\n",
      "othernames  :  ('c',)\n",
      "rootdir  :  /mnt/sfe-ns9602k/Julien/data\n",
      "start_train  :  10\n",
      "strides  :  20\n",
      "subd  :  2\n",
      "th_dam  :  0.0\n",
      "th_sic  :  0.2\n",
      "th_sit  :  0.0\n",
      "traindir  :  /mnt/sfe-ns9602k/Julien/data/exp-sr-sat-sar-smallpatch/train\n",
      "\n",
      "---- MODEL SETTING ----\n",
      "epochs  :  300\n",
      "fname_score_saliency  :  saliency_score\n",
      "fname_score_shuffle  :  shuffle_score\n",
      "log_dir  :  /mnt/sfe-ns9602k/.tools/deep-learn-1603280065-tensorboard/autokeras/exp-sr-sat-sar-smallpatch-long\n",
      "max_trials  :  50\n",
      "ntrain  :  None\n",
      "patience  :  15\n",
      "split_seed  :  1\n",
      "target_th  :  0.95\n",
      "test_size  :  0.15\n",
      "type  :  reg\n"
     ]
    }
   ],
   "source": [
    "# Directory of the experiment outputs\n",
    "expdir = os.path.join(rootdir, name)\n",
    "\n",
    "# Directory of the model\n",
    "model_dir = os.path.join(expdir, model_name)\n",
    "\n",
    "# Load experiment parameters\n",
    "with open(os.path.join(expdir,'data_params.yml' )) as file:\n",
    "    exp_dict = yaml.load(file, Loader=yaml.FullLoader)\n",
    "exp_dict = {**default, **exp_dict}\n",
    "    \n",
    "# Print experiments parameters\n",
    "print('---- EXPERIMENT SETTING ----')\n",
    "for key, value in exp_dict.items():\n",
    "    print(key, ' : ', value)\n",
    "\n",
    "print('\\n---- MODEL SETTING ----')\n",
    "with open(os.path.join(model_dir,'model_params.yml' )) as file:\n",
    "    dmod = yaml.load(file, Loader=yaml.FullLoader)   \n",
    "for key, value in dmod.items():\n",
    "    print(key, ' : ', value)"
   ]
  },
  {
   "cell_type": "code",
   "execution_count": 7,
   "metadata": {},
   "outputs": [],
   "source": [
    "test_path = os.path.join(expdir,testdir)\n",
    "fig_path = os.path.join(test_path,figdir)\n",
    "\n",
    "if not os.path.isdir(test_path):\n",
    "    os.makedirs(test_path)\n",
    "if not os.path.isdir(fig_path):\n",
    "    os.makedirs(fig_path)"
   ]
  },
  {
   "cell_type": "code",
   "execution_count": 8,
   "metadata": {},
   "outputs": [],
   "source": [
    "e1lim = (-5e-6,5e-6)\n",
    "e2lim = (0.,1e-5)\n",
    "lims = {\n",
    "    'log_deformation_0': (-4, 1),\n",
    "    'log_deformation_1': (-4, 1),\n",
    "    'h':(exp_dict['th_sit'],5),\n",
    "    'c':(0,1),\n",
    "    'd':(exp_dict['th_dam'], 1.),\n",
    "    'e1_0': e1lim,\n",
    "    'e1_1': e1lim,\n",
    "    'e2_0': e2lim,\n",
    "    'e2_1': e2lim,\n",
    "}"
   ]
  },
  {
   "cell_type": "code",
   "execution_count": 9,
   "metadata": {},
   "outputs": [
    {
     "name": "stdout",
     "output_type": "stream",
     "text": [
      "Size of the dataset: (529, 400, 500, 5)\n"
     ]
    }
   ],
   "source": [
    "# Load Xall, target\n",
    "traindir = exp_dict['traindir']\n",
    "nc = len(exp_dict['colnames'])\n",
    "Xall = np.load(os.path.join(traindir,'Xall.npy'))\n",
    "X = Xall[...,:nc]\n",
    "target = np.load(os.path.join(traindir,'target.npy'))\n",
    "nn, ny, nx, nfeature = Xall.shape\n",
    "\n",
    "# Load masl\n",
    "mask = np.load(os.path.join(traindir,'mask.npz'))\n",
    "mask_num = mask['mask_num']\n",
    "mask_sit = mask['mask_sit']\n",
    "mask_sic = mask['mask_sic']\n",
    "mask_dam = mask['mask_dam']\n",
    "mask_all = mask_num & mask_sit & mask_dam & mask_sic\n",
    "mask_in = mask_num\n",
    "\n",
    "print(f'Size of the dataset: {Xall.shape}')\n"
   ]
  },
  {
   "cell_type": "code",
   "execution_count": null,
   "metadata": {},
   "outputs": [],
   "source": []
  },
  {
   "cell_type": "code",
   "execution_count": 10,
   "metadata": {},
   "outputs": [
    {
     "name": "stdout",
     "output_type": "stream",
     "text": [
      "No scaling\n"
     ]
    }
   ],
   "source": [
    "# Load the model\n",
    "model_dir =  os.path.join(expdir, model_name)\n",
    "model = load_model(os.path.join(model_dir,model_name))\n",
    "scale = exp_dict['scale']\n",
    "\n",
    "if scale is True:\n",
    "    epsi = exp_dict['epsi']\n",
    "    th_dam = exp_dict['th_dam']\n",
    "\n",
    "    print('Scaling the output')\n",
    "    from dti_util import code_dam, decode_dam\n",
    "    # Normalization function\n",
    "    norm = lambda x : code_dam(x,epsi=epsi, vmin=th_dam)\n",
    "\n",
    "    # Denormalization function\n",
    "    denorm = lambda x : decode_dam(x,epsi=epsi, vmin=th_dam)\n",
    "else:\n",
    "    print('No scaling')\n",
    "\n",
    "    norm = lambda x : x\n",
    "    denorm = lambda x : x"
   ]
  },
  {
   "cell_type": "code",
   "execution_count": 11,
   "metadata": {},
   "outputs": [
    {
     "name": "stdout",
     "output_type": "stream",
     "text": [
      "Model: \"functional_1\"\n",
      "_________________________________________________________________\n",
      "Layer (type)                 Output Shape              Param #   \n",
      "=================================================================\n",
      "input_1 (InputLayer)         [(None, 7, 7, 4)]         0         \n",
      "_________________________________________________________________\n",
      "cast_to_float32 (CastToFloat (None, 7, 7, 4)           0         \n",
      "_________________________________________________________________\n",
      "normalization (Normalization (None, 7, 7, 4)           9         \n",
      "_________________________________________________________________\n",
      "conv2d (Conv2D)              (None, 5, 5, 64)          2368      \n",
      "_________________________________________________________________\n",
      "conv2d_1 (Conv2D)            (None, 5, 5, 32)          18464     \n",
      "_________________________________________________________________\n",
      "conv2d_2 (Conv2D)            (None, 5, 5, 32)          9248      \n",
      "_________________________________________________________________\n",
      "conv2d_3 (Conv2D)            (None, 5, 5, 512)         147968    \n",
      "_________________________________________________________________\n",
      "flatten (Flatten)            (None, 12800)             0         \n",
      "_________________________________________________________________\n",
      "regression_head_2 (Dense)    (None, 1)                 12801     \n",
      "=================================================================\n",
      "Total params: 190,858\n",
      "Trainable params: 190,849\n",
      "Non-trainable params: 9\n",
      "_________________________________________________________________\n"
     ]
    }
   ],
   "source": [
    "model.summary()"
   ]
  },
  {
   "cell_type": "code",
   "execution_count": 12,
   "metadata": {},
   "outputs": [],
   "source": [
    "datadir = exp_dict['datadir']\n",
    "lfiles=list(map(os.path.basename,sorted(glob.glob(os.path.join(datadir,'field*.npz')))))\n"
   ]
  },
  {
   "cell_type": "code",
   "execution_count": 13,
   "metadata": {},
   "outputs": [],
   "source": [
    "ltest = range(len(lfiles))\n",
    "\n",
    "#ypredict = np.nan*np.ones_like(target)"
   ]
  },
  {
   "cell_type": "code",
   "execution_count": 14,
   "metadata": {},
   "outputs": [
    {
     "data": {
      "application/vnd.jupyter.widget-view+json": {
       "model_id": "467512b384cd45f1b492241beef1d60a",
       "version_major": 2,
       "version_minor": 0
      },
      "text/plain": [
       "HBox(children=(FloatProgress(value=0.0, max=50.0), HTML(value='')))"
      ]
     },
     "metadata": {},
     "output_type": "display_data"
    },
    {
     "name": "stdout",
     "output_type": "stream",
     "text": [
      "\n"
     ]
    }
   ],
   "source": [
    "dsize = exp_dict['dsize']\n",
    "strides_test = exp_dict['strides_test']\n",
    "subd = exp_dict['subd']\n",
    "\n",
    "ypredict = None\n",
    "for itest in tqdm(ltest[:50]):\n",
    "    mask_in2 = mask_in[itest:itest+1]\n",
    "    X2 = X[itest:itest+1]\n",
    "    y2 = target[itest:itest+1]\n",
    "    ntest = X2.shape[0]\n",
    "    # The strides is equal to 1 to have an entire image\n",
    "    Xtest, ytest, mask_test = stack_training(X2, y2, mask_in2, mask_in2, dsize=dsize, subd=subd, strides=strides_test)\n",
    "    ypredict_tmp = denorm(model.predict(Xtest))\n",
    "    X2, y2_pred = unstack_training(Xtest, ypredict_tmp, mask_test, ny=ny, nx=nx, subd=subd, strides=strides_test, squeezey=True)\n",
    "    y2_pred = y2_pred.squeeze()\n",
    "    if ypredict is None: #Now the sizes are known we can initialize the ypredict matrix\n",
    "        ypredict = np.nan * np.ones((len(ltest),y2_pred.shape[0],y2_pred.shape[1]))\n",
    "    ypredict[itest] = y2_pred\n",
    "    fig, ax = plt.subplots(figsize=(5,6))\n",
    "    vmin,vmax = lims['h']\n",
    "\n",
    "    sit = ax.imshow(ypredict[itest],vmin=vmin, vmax = vmax,cmap='jet')\n",
    "    fig.colorbar(sit, orientation='horizontal')\n",
    "    ax.set_title(f'SIT NN {lfiles[int(itest)][6:17]}');\n",
    "    figname = f'SIT-NN-{lfiles[int(itest)][6:17]}.png'\n",
    "    if savefig:\n",
    "        fig.savefig(os.path.join(fig_path,figname))\n",
    "        plt.close(fig)"
   ]
  },
  {
   "cell_type": "code",
   "execution_count": 15,
   "metadata": {},
   "outputs": [],
   "source": [
    "np.save(os.path.join(test_path,'predict_nn.npy'),ypredict)"
   ]
  },
  {
   "cell_type": "code",
   "execution_count": 16,
   "metadata": {},
   "outputs": [
    {
     "data": {
      "application/vnd.jupyter.widget-view+json": {
       "model_id": "8f48645284274c28b71905bbc5bdd895",
       "version_major": 2,
       "version_minor": 0
      },
      "text/plain": [
       "HBox(children=(FloatProgress(value=0.0, max=50.0), HTML(value='')))"
      ]
     },
     "metadata": {},
     "output_type": "display_data"
    },
    {
     "name": "stdout",
     "output_type": "stream",
     "text": [
      "\n"
     ]
    }
   ],
   "source": [
    "# Save also the baseline and target\n",
    "colnames = exp_dict['colnames']\n",
    "ih = colnames.index('h')\n",
    "ic = colnames.index('c')\n",
    "\n",
    "ybaseline = X[...,ih]*X[...,ic]\n",
    "np.save(os.path.join(test_path,'predict_bl.npy'),ybaseline)\n",
    "for itest in tqdm(ltest[:50]):\n",
    "    fig, ax = plt.subplots(figsize=(5,6))\n",
    "    vmin,vmax = lims['h']\n",
    "    sit = ax.imshow(target[itest],vmin=vmin, vmax = vmax,cmap='jet')\n",
    "    fig.colorbar(sit, orientation='horizontal')\n",
    "    ax.set_title(f'SIT TRUE {lfiles[int(itest)][6:17]}');\n",
    "    figname = f'SIT-TR-{lfiles[int(itest)][6:17]}.png'\n",
    "    if savefig:\n",
    "        fig.savefig(os.path.join(fig_path,figname))\n",
    "        plt.close(fig)\n",
    "    fig, ax = plt.subplots(figsize=(5,6))\n",
    "    vmin,vmax = lims['h']\n",
    "    sit = ax.imshow(ybaseline[itest],vmin=vmin, vmax = vmax,cmap='jet')\n",
    "    fig.colorbar(sit, orientation='horizontal')\n",
    "    ax.set_title(f'SIT BASELINE {lfiles[int(itest)][6:17]}');\n",
    "    figname = f'SIT-BL-{lfiles[int(itest)][6:17]}.png'\n",
    "    if savefig:\n",
    "        fig.savefig(os.path.join(fig_path,figname))\n",
    "        plt.close(fig)\n",
    "    fig, ax = plt.subplots(ncols=3,figsize=(15,5))\n",
    "    vmin,vmax = lims['h']\n",
    "    sit = ax[0].imshow(ybaseline[itest],vmin=vmin, vmax = vmax,cmap='jet')\n",
    "    ax[0].set_title(f'BASELINE');\n",
    "    sit = ax[1].imshow(target[itest],vmin=vmin, vmax = vmax,cmap='jet')\n",
    "    ax[1].set_title(f'TRUTH');\n",
    "    sit = ax[2].imshow(ypredict[itest],vmin=vmin, vmax = vmax,cmap='jet')\n",
    "    ax[2].set_title(f'NN');\n",
    "    fig.colorbar(sit, ax=list(ax.ravel()),orientation='horizontal')\n",
    "    fig.suptitle(f'{lfiles[int(itest)][6:17]}');\n",
    "\n",
    "    figname = f'SIT-all-{lfiles[int(itest)][6:17]}.png'\n",
    "    if savefig:\n",
    "        fig.savefig(os.path.join(fig_path,figname))\n",
    "        plt.close(fig)\n",
    "    "
   ]
  },
  {
   "cell_type": "code",
   "execution_count": null,
   "metadata": {},
   "outputs": [],
   "source": []
  },
  {
   "cell_type": "code",
   "execution_count": null,
   "metadata": {},
   "outputs": [],
   "source": []
  },
  {
   "cell_type": "code",
   "execution_count": null,
   "metadata": {},
   "outputs": [],
   "source": []
  }
 ],
 "metadata": {
  "kernelspec": {
   "display_name": "Python 3",
   "language": "python",
   "name": "python3"
  },
  "language_info": {
   "codemirror_mode": {
    "name": "ipython",
    "version": 3
   },
   "file_extension": ".py",
   "mimetype": "text/x-python",
   "name": "python",
   "nbconvert_exporter": "python",
   "pygments_lexer": "ipython3",
   "version": "3.7.6"
  }
 },
 "nbformat": 4,
 "nbformat_minor": 4
}
