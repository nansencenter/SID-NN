{
 "cells": [
  {
   "cell_type": "code",
   "execution_count": null,
   "metadata": {},
   "outputs": [],
   "source": [
    "import datetime as dt\n",
    "\n",
    "import numpy as np\n",
    "\n",
    "from cryosat_utils import *\n",
    "%matplotlib inline"
   ]
  },
  {
   "cell_type": "code",
   "execution_count": null,
   "metadata": {},
   "outputs": [],
   "source": [
    "subplot_size=5\n",
    "\n",
    "sit_names = ['cs2', 'inp', 'lor', 'hir']\n",
    "p_vec = (10,20,30)\n",
    "\n",
    "date_delta0, date_delta1 = -2, 2"
   ]
  },
  {
   "cell_type": "code",
   "execution_count": null,
   "metadata": {
    "scrolled": false
   },
   "outputs": [],
   "source": [
    "date0 = dt.datetime(2021,1,5)\n",
    "cs2_files, sit_inp_name, sit_lor_name, sit_hir_name = get_filenames(date0, date_delta0, date_delta1)\n",
    "odf = read_cs2_orbits(cs2_files)\n",
    "plot_cs2_orbits_hist(odf)\n",
    "sit_inp, sit_lor, sit_hir = get_sit_2d(sit_inp_name, sit_lor_name, sit_hir_name)\n",
    "rho_ice_new, rho_snow_new  = fit_snow_ice_rho(odf, sit_inp, plot=True)\n",
    "odf_masked = get_masked_odf(odf, rho_ice_new, rho_snow_new)\n",
    "c, r, h = get_smoothed_resampled_orbits(odf_masked, smth_time='12s', resample_time='6s', min_periods=5, t0=None, t1=None)\n",
    "plot_orbit_mean(c, r, h, [sit_inp, sit_lor, sit_hir])\n",
    "sit_cs2 = rasterize_cs2(c, r, h, sit_inp, ws=2)"
   ]
  },
  {
   "cell_type": "code",
   "execution_count": null,
   "metadata": {},
   "outputs": [],
   "source": [
    "ano = {}\n",
    "for arr, name in zip([sit_cs2, sit_inp, sit_lor, sit_hir], sit_names):\n",
    "    print(name)\n",
    "    ano[name] = compute_anomaly(arr)"
   ]
  },
  {
   "cell_type": "code",
   "execution_count": null,
   "metadata": {},
   "outputs": [],
   "source": [
    "titles = ['CS2', 'CS2SMOS', 'CNN-LR', 'CNN-HR']\n",
    "\n",
    "print('FIELDS')\n",
    "arrays = [sit_cs2, sit_inp, sit_lor, sit_hir]\n",
    "plot_maps(arrays, titles, clim=(0, 3), subplot_size=7, step=1)\n",
    "\n",
    "print('ANOMALY')\n",
    "arrays = [ano[j][1] for j in sit_names]\n",
    "plot_maps(arrays, titles, clim=(-0.2, 0), subplot_size=7, step=1)"
   ]
  },
  {
   "cell_type": "code",
   "execution_count": null,
   "metadata": {},
   "outputs": [],
   "source": [
    "ppp = {}\n",
    "for arr, name in zip([sit_cs2, sit_inp, sit_lor, sit_hir], sit_names):\n",
    "    print(name)\n",
    "    ppp[name] = compute_precentiles(ano[name][1], p_vec, stp=5)\n",
    "    \n",
    "for p in p_vec:\n",
    "    print(f'ANOMALY P{p}')\n",
    "    arrays = [ppp[i][p] for i in sit_names]\n",
    "    plot_maps(arrays, titles, clim=(-0.2, 0), subplot_size=7, step=1)"
   ]
  },
  {
   "cell_type": "code",
   "execution_count": null,
   "metadata": {},
   "outputs": [],
   "source": [
    "arrays = [ano[i][1] for i in sit_names]\n",
    "print('Common mask')\n",
    "plot_qq(arrays, titles)\n",
    "print('Individual mask')\n",
    "plot_qq(arrays, titles, common_mask=False)"
   ]
  },
  {
   "cell_type": "code",
   "execution_count": null,
   "metadata": {
    "scrolled": false
   },
   "outputs": [],
   "source": [
    "c2, r2, h2 = get_smoothed_resampled_orbits(odf_masked, smth_time='30s', resample_time='6s', min_periods=5, t0=None, t1=None)\n",
    "plot_orbit_mean(c2, r2, h2, [sit_inp, sit_lor, sit_hir])"
   ]
  },
  {
   "cell_type": "code",
   "execution_count": null,
   "metadata": {},
   "outputs": [],
   "source": [
    "sit_cs22 = rasterize_cs2(c2, r2, h2, sit_inp, ws=5)\n",
    "sit_names2 = ['cs2', 'cs22', 'inp', 'lor', 'hir']\n",
    "\n",
    "ano2 = {}\n",
    "for arr, name in zip([sit_cs2, sit_cs22, sit_inp, sit_lor, sit_hir], sit_names2):\n",
    "    print(name)\n",
    "    ano2[name] = compute_anomaly(arr)\n",
    "\n",
    "p_vec2 = (10,20,)\n",
    "ppp2 = {}\n",
    "for arr, name in zip([sit_cs2, sit_cs22, sit_inp, sit_lor, sit_hir], sit_names2):\n",
    "    print(name)\n",
    "    ppp2[name] = compute_precentiles(ano2[name][1], p_vec2, stp=5)"
   ]
  },
  {
   "cell_type": "code",
   "execution_count": null,
   "metadata": {},
   "outputs": [],
   "source": [
    "titles2 = ['CS2_12km', 'CS2_30km', 'CS2SMOS', 'CNN-LR', 'CNN-HR']\n",
    "for p in p_vec2:\n",
    "    print(f'ANOMALY P{p}')\n",
    "    arrays = [ppp2[i][p] for i in sit_names2]\n",
    "    plot_maps(arrays, titles2, clim=(-0.2, 0), subplot_size=7, step=1)\n",
    "    \n",
    "    \n",
    "arrays = [ano2[i][1] for i in sit_names2]\n",
    "print('Common mask')\n",
    "plot_qq(arrays, titles2)\n",
    "print('Individual mask')\n",
    "plot_qq(arrays, titles2, common_mask=False)"
   ]
  },
  {
   "cell_type": "code",
   "execution_count": null,
   "metadata": {},
   "outputs": [],
   "source": [
    "colors = ['b', 'g']\n",
    "labels = ['CS2SMOS', 'CNN-HI-RES']\n",
    "arrays = [sit_inp, sit_hir]\n",
    "plot_orbit_anomaly_quantile(odf_masked, arrays, colors, labels)"
   ]
  },
  {
   "cell_type": "code",
   "execution_count": null,
   "metadata": {},
   "outputs": [],
   "source": []
  }
 ],
 "metadata": {
  "kernelspec": {
   "display_name": "Python 3",
   "language": "python",
   "name": "python3"
  },
  "language_info": {
   "codemirror_mode": {
    "name": "ipython",
    "version": 3
   },
   "file_extension": ".py",
   "mimetype": "text/x-python",
   "name": "python",
   "nbconvert_exporter": "python",
   "pygments_lexer": "ipython3",
   "version": "3.7.6"
  }
 },
 "nbformat": 4,
 "nbformat_minor": 4
}
