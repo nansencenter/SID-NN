{
 "cells": [
  {
   "cell_type": "code",
   "execution_count": null,
   "metadata": {},
   "outputs": [],
   "source": [
    "import datetime as dt\n",
    "\n",
    "import numpy as np\n",
    "from scipy import fft\n",
    "\n",
    "from cryosat_utils import *\n",
    "%matplotlib inline"
   ]
  },
  {
   "cell_type": "code",
   "execution_count": null,
   "metadata": {},
   "outputs": [],
   "source": [
    "subplot_size=5\n",
    "sit_names = ['cs2', 'inp', 'lor', 'hir']\n",
    "p_vec = (10,20,30)\n",
    "date_delta0, date_delta1 = -2, 2\n",
    "date0 = dt.datetime(2021,1,5)\n"
   ]
  },
  {
   "cell_type": "markdown",
   "metadata": {},
   "source": [
    "# Prepare CS2 data"
   ]
  },
  {
   "cell_type": "code",
   "execution_count": null,
   "metadata": {
    "scrolled": false
   },
   "outputs": [],
   "source": [
    "cs2_files, sit_inp_name, sit_lor_name, sit_hir_name = get_filenames(date0, date_delta0, date_delta1)\n",
    "odf = read_cs2_orbits(cs2_files)\n",
    "plot_cs2_orbits_hist(odf)\n",
    "sit_inp, sit_lor, sit_hir = get_sit_2d(sit_inp_name, sit_lor_name, sit_hir_name)\n",
    "rho_ice_new, rho_snow_new  = fit_snow_ice_rho(odf, sit_inp, plot=True)\n",
    "odf_masked = get_masked_odf(odf, rho_ice_new, rho_snow_new)"
   ]
  },
  {
   "cell_type": "markdown",
   "metadata": {},
   "source": [
    "# Compare with CS2 data smoothed at 12 km (CNN designed output resolution)"
   ]
  },
  {
   "cell_type": "code",
   "execution_count": null,
   "metadata": {},
   "outputs": [],
   "source": [
    "c, r, h = get_smoothed_resampled_orbits(odf_masked, smth_time='12s', resample_time='6s', min_periods=5, t0=None, t1=None)\n",
    "plot_orbit_mean(c, r, h, [sit_inp, sit_lor, sit_hir])\n",
    "sit_cs2 = rasterize_cs2(c, r, h, sit_inp, ws=2)\n",
    "\n",
    "ano = {}\n",
    "for arr, name in zip([sit_cs2, sit_inp, sit_lor, sit_hir], sit_names):\n",
    "    print(name)\n",
    "    ano[name] = compute_anomaly(arr, ws=15)"
   ]
  },
  {
   "cell_type": "code",
   "execution_count": null,
   "metadata": {},
   "outputs": [],
   "source": [
    "titles = ['CS2', 'CS2SMOS', 'CNN-LR', 'CNN-HR']\n",
    "\n",
    "print('FIELDS')\n",
    "arrays = [sit_cs2, sit_inp, sit_lor, sit_hir]\n",
    "plot_maps(arrays, titles, clim=(0, 3), subplot_size=7, step=1)\n",
    "\n",
    "print('ANOMALY')\n",
    "arrays = [ano[j][1] for j in sit_names]\n",
    "plot_maps(arrays, titles, clim=(-0.2, 0), subplot_size=7, step=1)"
   ]
  },
  {
   "cell_type": "code",
   "execution_count": null,
   "metadata": {},
   "outputs": [],
   "source": [
    "ppp = {}\n",
    "for arr, name in zip([sit_cs2, sit_inp, sit_lor, sit_hir], sit_names):\n",
    "    print(name)\n",
    "    ppp[name] = compute_precentiles(ano[name][1], p_vec, stp=5)\n",
    "    \n",
    "for p in p_vec:\n",
    "    print(f'ANOMALY P{p}')\n",
    "    arrays = [ppp[i][p] for i in sit_names]\n",
    "    plot_maps(arrays, titles, clim=(-0.2, 0), subplot_size=7, step=1)"
   ]
  },
  {
   "cell_type": "code",
   "execution_count": null,
   "metadata": {},
   "outputs": [],
   "source": [
    "arrays = [ano[i][1] for i in sit_names]\n",
    "print('Common mask')\n",
    "plot_qq(arrays, titles)\n",
    "print('Individual mask')\n",
    "plot_qq(arrays, titles, common_mask=False)"
   ]
  },
  {
   "cell_type": "markdown",
   "metadata": {},
   "source": [
    "# Find scale at which CS2 data should be smoothed"
   ]
  },
  {
   "cell_type": "code",
   "execution_count": null,
   "metadata": {},
   "outputs": [],
   "source": [
    "arrays = [sit_inp, sit_lor, sit_hir]\n",
    "titles = ['CS2SMOS', 'CNN-LR', 'CNN-HR']\n",
    "plot_ks_test(odf_masked, arrays, titles)"
   ]
  },
  {
   "cell_type": "markdown",
   "metadata": {},
   "source": [
    "# Compare with CS2 data smoothed at 60 km (CNN real output resolution)"
   ]
  },
  {
   "cell_type": "code",
   "execution_count": null,
   "metadata": {
    "scrolled": false
   },
   "outputs": [],
   "source": [
    "c2, r2, h2 = get_smoothed_resampled_orbits(odf_masked, smth_time='60s', resample_time='6s', min_periods=5, t0=None, t1=None)\n",
    "plot_orbit_mean(c2, r2, h2, [sit_inp, sit_lor, sit_hir])\n"
   ]
  },
  {
   "cell_type": "code",
   "execution_count": null,
   "metadata": {},
   "outputs": [],
   "source": [
    "sit_cs22 = rasterize_cs2(c2, r2, h2, sit_inp, ws=10)\n",
    "\n",
    "sit_names2 = ['cs2', 'cs22', 'inp', 'lor', 'hir']\n",
    "\n",
    "ano2 = {}\n",
    "for arr, name in zip([sit_cs2, sit_cs22, sit_inp, sit_lor, sit_hir], sit_names2):\n",
    "    print(name)\n",
    "    ano2[name] = compute_anomaly(arr, ws=15)\n",
    "\n",
    "p_vec2 = (10,20,)\n",
    "ppp2 = {}\n",
    "for arr, name in zip([sit_cs2, sit_cs22, sit_inp, sit_lor, sit_hir], sit_names2):\n",
    "    print(name)\n",
    "    ppp2[name] = compute_precentiles(ano2[name][1], p_vec2, stp=5)"
   ]
  },
  {
   "cell_type": "code",
   "execution_count": null,
   "metadata": {},
   "outputs": [],
   "source": [
    "titles2 = ['CS2_12km', 'CS2_60km', 'CS2SMOS', 'CNN-LR', 'CNN-HR']\n",
    "for p in p_vec2:\n",
    "    print(f'ANOMALY P{p}')\n",
    "    arrays = [ppp2[i][p] for i in sit_names2]\n",
    "    plot_maps(arrays, titles2, clim=(-0.2, 0), subplot_size=7, step=1)\n",
    "    \n",
    "    \n",
    "arrays = [ano2[i][1] for i in sit_names2]\n",
    "print('Common mask')\n",
    "plot_qq(arrays, titles2)\n",
    "print('Individual mask')\n",
    "plot_qq(arrays, titles2, common_mask=False)"
   ]
  },
  {
   "cell_type": "code",
   "execution_count": null,
   "metadata": {},
   "outputs": [],
   "source": [
    "colors = ['b', 'g']\n",
    "labels = ['CS2SMOS', 'CNN-HI-RES']\n",
    "arrays = [sit_inp, sit_hir]\n",
    "plot_orbit_anomaly_quantile(odf_masked, arrays, colors, labels)"
   ]
  },
  {
   "cell_type": "markdown",
   "metadata": {},
   "source": [
    "# Split in chunks, compute power spectra"
   ]
  },
  {
   "cell_type": "code",
   "execution_count": null,
   "metadata": {},
   "outputs": [],
   "source": [
    "colors = ['b', 'g']\n",
    "labels = ['CS2SMOS', 'CNN-HI-RES']\n",
    "arrays = [sit_inp, sit_hir]\n",
    "km0=2.8485e6\n",
    "km1=2.8502e6\n",
    "km0=0\n",
    "km1=100e6\n",
    "\n",
    "plot_q=0.1\n",
    "\n",
    "odf_masked_km = get_df_km(odf_masked)\n",
    "\n",
    "gpi = (odf_masked_km > km0) * (odf_masked_km < km1) \n",
    "\n",
    "odf_masked2 = odf_masked[gpi]\n",
    "\n",
    "odf_masked2_km = get_df_km(odf_masked2)\n",
    "\n",
    "odf_m2_pix = odf_masked2.rolling('6s').mean().resample('6s').mean().dropna()\n",
    "h_pix = odf_m2_pix['h'].to_numpy()\n",
    "x_pix = odf_m2_pix['x'].to_numpy()\n",
    "y_pix = odf_m2_pix['y'].to_numpy()\n",
    "\n",
    "c_pix, r_pix = dst_area.get_array_coordinates_from_projection_coordinates(x_pix, y_pix)\n",
    "\n",
    "c_pix = np.round(c_pix).astype(int)\n",
    "r_pix = np.round(r_pix).astype(int)\n",
    "\n",
    "h_inp_pix = [arr[r_pix, c_pix] for arr in arrays]\n",
    "\n",
    "h_pix_all = np.vstack([h_pix] + h_inp_pix)\n",
    "\n",
    "gpi_pix = np.isfinite(np.prod(h_pix_all, axis=0)).astype(int)\n",
    "chunk_starts = np.where(np.diff(gpi_pix) == 1)[0]+1\n",
    "chunk_ends = np.where(np.diff(gpi_pix) == -1)[0]\n",
    "print(len(chunk_starts))\n",
    "\n",
    "chunk_lengths = [che-chs for (chs,che) in zip(chunk_starts, chunk_ends)]\n",
    "plt.hist(chunk_lengths, 100)\n",
    "plt.show()\n",
    "\n",
    "time_step = 6 # km\n",
    "chunk_length = 40 #pix \n",
    "\n",
    "for hi in range(3):\n",
    "    powers = []\n",
    "    for chs, che in zip(chunk_starts, chunk_ends):\n",
    "        sig = h_pix_all[hi][chs:che][:chunk_length]\n",
    "        if sig.size < chunk_length:\n",
    "            continue\n",
    "\n",
    "        sig_fft = fft.fft(sig)\n",
    "        power = np.abs(sig_fft)**2\n",
    "        sample_freq = fft.fftfreq(sig.size, d=time_step)\n",
    "        pos_mask = np.where(sample_freq > 0)\n",
    "        freqs = sample_freq[pos_mask]\n",
    "        powers.append(power[pos_mask])\n",
    "    \n",
    "    powers_a = 10**np.mean(np.array(np.log10(powers)), axis=0)\n",
    "    plt.semilogy(1/freqs, powers_a, '.-')\n",
    "\n",
    "plt.xlim([200, 0])\n",
    "plt.xlabel('Wavelength [km]')\n",
    "plt.legend(['CS2', 'CS2SMOS', 'CNN-HR'])\n",
    "plt.show()"
   ]
  },
  {
   "cell_type": "code",
   "execution_count": null,
   "metadata": {},
   "outputs": [],
   "source": []
  }
 ],
 "metadata": {
  "kernelspec": {
   "display_name": "Python 3",
   "language": "python",
   "name": "python3"
  },
  "language_info": {
   "codemirror_mode": {
    "name": "ipython",
    "version": 3
   },
   "file_extension": ".py",
   "mimetype": "text/x-python",
   "name": "python",
   "nbconvert_exporter": "python",
   "pygments_lexer": "ipython3",
   "version": "3.7.6"
  }
 },
 "nbformat": 4,
 "nbformat_minor": 4
}
